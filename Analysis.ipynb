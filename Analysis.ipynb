{
 "cells": [
  {
   "cell_type": "markdown",
   "metadata": {},
   "source": [
    "## Next steps:\n",
    "\n",
    "- Investigate data\n",
    "- Investigate Null values\n",
    "- First analysis (GROUP BY, standard metrics)\n",
    "\n",
    "\n",
    "## Ideas\n",
    "\n",
    "- Interesting could be a cart rate. How much and what from the cart got purchased at the end. And how long did it stay in the  cart.\n",
    "\n",
    "- Same from view to cart or purchase.\n",
    "\n",
    "- These could be analysied by user, category or brand"
   ]
  },
  {
   "cell_type": "code",
   "execution_count": 1,
   "metadata": {},
   "outputs": [],
   "source": [
    "# Import libraries\n",
    "import pandas as pd\n",
    "import matplotlib as plt\n",
    "import seaborn as sns\n",
    "import numpy as np\n",
    "import impala as ip\n",
    "from impala.dbapi import connect\n",
    "from impala.util import as_pandas"
   ]
  },
  {
   "cell_type": "code",
   "execution_count": 2,
   "metadata": {},
   "outputs": [],
   "source": [
    "#Showing graphs inline\n",
    "%matplotlib inline"
   ]
  },
  {
   "cell_type": "code",
   "execution_count": 3,
   "metadata": {},
   "outputs": [],
   "source": [
    "conn = connect('localhost', port=21050)\n",
    "cursor = conn.cursor()\n",
    "#cursor.execute('SHOW DATABASE')\n",
    "#cursor.fetchall()"
   ]
  },
  {
   "cell_type": "code",
   "execution_count": 4,
   "metadata": {},
   "outputs": [
    {
     "data": {
      "text/plain": [
       "[('event_time', 'timestamp', ''),\n",
       " ('event_type', 'string', ''),\n",
       " ('product_id', 'bigint', ''),\n",
       " ('category_id', 'bigint', ''),\n",
       " ('category_code', 'string', ''),\n",
       " ('brand', 'string', ''),\n",
       " ('price', 'double', ''),\n",
       " ('user_id', 'bigint', ''),\n",
       " ('user_session', 'string', '')]"
      ]
     },
     "execution_count": 4,
     "metadata": {},
     "output_type": "execute_result"
    }
   ],
   "source": [
    "cursor.execute('DESCRIBE sales.sales')\n",
    "cursor.fetchall()"
   ]
  },
  {
   "cell_type": "code",
   "execution_count": 5,
   "metadata": {},
   "outputs": [],
   "source": [
    "QUERY = 'SELECT * FROM sales.sales LIMIT 10'"
   ]
  },
  {
   "cell_type": "code",
   "execution_count": 6,
   "metadata": {},
   "outputs": [],
   "source": [
    "cursor.execute(QUERY)\n",
    "results = pd.DataFrame(cursor.fetchall())"
   ]
  },
  {
   "cell_type": "code",
   "execution_count": 7,
   "metadata": {},
   "outputs": [
    {
     "name": "stdout",
     "output_type": "stream",
     "text": [
      "<class 'pandas.core.frame.DataFrame'>\n",
      "RangeIndex: 10 entries, 0 to 9\n",
      "Data columns (total 9 columns):\n",
      " #   Column  Non-Null Count  Dtype         \n",
      "---  ------  --------------  -----         \n",
      " 0   0       10 non-null     datetime64[ns]\n",
      " 1   1       10 non-null     object        \n",
      " 2   2       10 non-null     int64         \n",
      " 3   3       10 non-null     int64         \n",
      " 4   4       5 non-null      object        \n",
      " 5   5       9 non-null      object        \n",
      " 6   6       10 non-null     float64       \n",
      " 7   7       10 non-null     int64         \n",
      " 8   8       10 non-null     object        \n",
      "dtypes: datetime64[ns](1), float64(1), int64(3), object(4)\n",
      "memory usage: 848.0+ bytes\n"
     ]
    }
   ],
   "source": [
    "results.info()"
   ]
  },
  {
   "cell_type": "code",
   "execution_count": 8,
   "metadata": {},
   "outputs": [
    {
     "data": {
      "text/html": [
       "<div>\n",
       "<style scoped>\n",
       "    .dataframe tbody tr th:only-of-type {\n",
       "        vertical-align: middle;\n",
       "    }\n",
       "\n",
       "    .dataframe tbody tr th {\n",
       "        vertical-align: top;\n",
       "    }\n",
       "\n",
       "    .dataframe thead th {\n",
       "        text-align: right;\n",
       "    }\n",
       "</style>\n",
       "<table border=\"1\" class=\"dataframe\">\n",
       "  <thead>\n",
       "    <tr style=\"text-align: right;\">\n",
       "      <th></th>\n",
       "      <th>0</th>\n",
       "      <th>1</th>\n",
       "      <th>2</th>\n",
       "      <th>3</th>\n",
       "      <th>4</th>\n",
       "      <th>5</th>\n",
       "      <th>6</th>\n",
       "      <th>7</th>\n",
       "      <th>8</th>\n",
       "    </tr>\n",
       "  </thead>\n",
       "  <tbody>\n",
       "    <tr>\n",
       "      <th>0</th>\n",
       "      <td>2019-11-21 07:54:33</td>\n",
       "      <td>view</td>\n",
       "      <td>1005107</td>\n",
       "      <td>2053013555631882655</td>\n",
       "      <td>electronics.smartphone</td>\n",
       "      <td>apple</td>\n",
       "      <td>1003.63</td>\n",
       "      <td>515020541</td>\n",
       "      <td>d337e519-aa70-4b2b-968f-ea5b26d81704</td>\n",
       "    </tr>\n",
       "    <tr>\n",
       "      <th>1</th>\n",
       "      <td>2019-11-21 07:54:33</td>\n",
       "      <td>view</td>\n",
       "      <td>3701366</td>\n",
       "      <td>2053013565983425517</td>\n",
       "      <td>appliances.environment.vacuum</td>\n",
       "      <td>ilife</td>\n",
       "      <td>254.83</td>\n",
       "      <td>515065337</td>\n",
       "      <td>994b153f-26e2-4a36-8c02-395ef566f6f7</td>\n",
       "    </tr>\n",
       "    <tr>\n",
       "      <th>2</th>\n",
       "      <td>2019-11-21 07:54:33</td>\n",
       "      <td>view</td>\n",
       "      <td>1004886</td>\n",
       "      <td>2053013555631882655</td>\n",
       "      <td>electronics.smartphone</td>\n",
       "      <td>oppo</td>\n",
       "      <td>154.16</td>\n",
       "      <td>513369849</td>\n",
       "      <td>62ec064f-34af-4c88-b743-46b7f3af520f</td>\n",
       "    </tr>\n",
       "    <tr>\n",
       "      <th>3</th>\n",
       "      <td>2019-11-21 07:54:33</td>\n",
       "      <td>view</td>\n",
       "      <td>15100095</td>\n",
       "      <td>2053013557024391671</td>\n",
       "      <td>None</td>\n",
       "      <td>sv</td>\n",
       "      <td>1029.37</td>\n",
       "      <td>555003952</td>\n",
       "      <td>5b9ba51e-3939-49a6-8219-77d47cc952c3</td>\n",
       "    </tr>\n",
       "    <tr>\n",
       "      <th>4</th>\n",
       "      <td>2019-11-21 07:54:33</td>\n",
       "      <td>view</td>\n",
       "      <td>5100166</td>\n",
       "      <td>2053013553375346967</td>\n",
       "      <td>None</td>\n",
       "      <td>fitbit</td>\n",
       "      <td>180.16</td>\n",
       "      <td>569194567</td>\n",
       "      <td>76eebdcb-e75a-47fd-a8bc-346ad4f2ecc8</td>\n",
       "    </tr>\n",
       "    <tr>\n",
       "      <th>5</th>\n",
       "      <td>2019-11-21 07:54:33</td>\n",
       "      <td>view</td>\n",
       "      <td>17800520</td>\n",
       "      <td>2053013559868129947</td>\n",
       "      <td>computers.desktop</td>\n",
       "      <td>zeta</td>\n",
       "      <td>53.05</td>\n",
       "      <td>573854965</td>\n",
       "      <td>2b7fa6af-b870-46d8-a7b7-318a8e436ef9</td>\n",
       "    </tr>\n",
       "    <tr>\n",
       "      <th>6</th>\n",
       "      <td>2019-11-21 07:54:33</td>\n",
       "      <td>view</td>\n",
       "      <td>13104069</td>\n",
       "      <td>2053013553526341921</td>\n",
       "      <td>None</td>\n",
       "      <td>skad</td>\n",
       "      <td>224.15</td>\n",
       "      <td>515482791</td>\n",
       "      <td>bee4b61c-6fb7-4791-8d7c-0111d93053ea</td>\n",
       "    </tr>\n",
       "    <tr>\n",
       "      <th>7</th>\n",
       "      <td>2019-11-21 07:54:33</td>\n",
       "      <td>view</td>\n",
       "      <td>2601157</td>\n",
       "      <td>2053013563970159485</td>\n",
       "      <td>None</td>\n",
       "      <td>gefest</td>\n",
       "      <td>378.64</td>\n",
       "      <td>528106545</td>\n",
       "      <td>73b41e3f-ce9f-45e1-ab28-a3f4fdc9bbe8</td>\n",
       "    </tr>\n",
       "    <tr>\n",
       "      <th>8</th>\n",
       "      <td>2019-11-21 07:54:33</td>\n",
       "      <td>view</td>\n",
       "      <td>1004873</td>\n",
       "      <td>2053013555631882655</td>\n",
       "      <td>electronics.smartphone</td>\n",
       "      <td>samsung</td>\n",
       "      <td>382.71</td>\n",
       "      <td>561588141</td>\n",
       "      <td>9aee4d9c-9e00-46a2-a690-bf625e524f6d</td>\n",
       "    </tr>\n",
       "    <tr>\n",
       "      <th>9</th>\n",
       "      <td>2019-11-21 07:54:33</td>\n",
       "      <td>view</td>\n",
       "      <td>100013130</td>\n",
       "      <td>2135658542386905834</td>\n",
       "      <td>None</td>\n",
       "      <td>None</td>\n",
       "      <td>0.00</td>\n",
       "      <td>513235367</td>\n",
       "      <td>089fb29a-4400-407e-a443-5dd0df3c7b9c</td>\n",
       "    </tr>\n",
       "  </tbody>\n",
       "</table>\n",
       "</div>"
      ],
      "text/plain": [
       "                    0     1          2                    3  \\\n",
       "0 2019-11-21 07:54:33  view    1005107  2053013555631882655   \n",
       "1 2019-11-21 07:54:33  view    3701366  2053013565983425517   \n",
       "2 2019-11-21 07:54:33  view    1004886  2053013555631882655   \n",
       "3 2019-11-21 07:54:33  view   15100095  2053013557024391671   \n",
       "4 2019-11-21 07:54:33  view    5100166  2053013553375346967   \n",
       "5 2019-11-21 07:54:33  view   17800520  2053013559868129947   \n",
       "6 2019-11-21 07:54:33  view   13104069  2053013553526341921   \n",
       "7 2019-11-21 07:54:33  view    2601157  2053013563970159485   \n",
       "8 2019-11-21 07:54:33  view    1004873  2053013555631882655   \n",
       "9 2019-11-21 07:54:33  view  100013130  2135658542386905834   \n",
       "\n",
       "                               4        5        6          7  \\\n",
       "0         electronics.smartphone    apple  1003.63  515020541   \n",
       "1  appliances.environment.vacuum    ilife   254.83  515065337   \n",
       "2         electronics.smartphone     oppo   154.16  513369849   \n",
       "3                           None       sv  1029.37  555003952   \n",
       "4                           None   fitbit   180.16  569194567   \n",
       "5              computers.desktop     zeta    53.05  573854965   \n",
       "6                           None     skad   224.15  515482791   \n",
       "7                           None   gefest   378.64  528106545   \n",
       "8         electronics.smartphone  samsung   382.71  561588141   \n",
       "9                           None     None     0.00  513235367   \n",
       "\n",
       "                                      8  \n",
       "0  d337e519-aa70-4b2b-968f-ea5b26d81704  \n",
       "1  994b153f-26e2-4a36-8c02-395ef566f6f7  \n",
       "2  62ec064f-34af-4c88-b743-46b7f3af520f  \n",
       "3  5b9ba51e-3939-49a6-8219-77d47cc952c3  \n",
       "4  76eebdcb-e75a-47fd-a8bc-346ad4f2ecc8  \n",
       "5  2b7fa6af-b870-46d8-a7b7-318a8e436ef9  \n",
       "6  bee4b61c-6fb7-4791-8d7c-0111d93053ea  \n",
       "7  73b41e3f-ce9f-45e1-ab28-a3f4fdc9bbe8  \n",
       "8  9aee4d9c-9e00-46a2-a690-bf625e524f6d  \n",
       "9  089fb29a-4400-407e-a443-5dd0df3c7b9c  "
      ]
     },
     "execution_count": 8,
     "metadata": {},
     "output_type": "execute_result"
    }
   ],
   "source": [
    "results"
   ]
  },
  {
   "cell_type": "code",
   "execution_count": null,
   "metadata": {},
   "outputs": [],
   "source": []
  }
 ],
 "metadata": {
  "kernelspec": {
   "display_name": "Python 3",
   "language": "python",
   "name": "python3"
  },
  "language_info": {
   "codemirror_mode": {
    "name": "ipython",
    "version": 3
   },
   "file_extension": ".py",
   "mimetype": "text/x-python",
   "name": "python",
   "nbconvert_exporter": "python",
   "pygments_lexer": "ipython3",
   "version": "3.7.3"
  }
 },
 "nbformat": 4,
 "nbformat_minor": 2
}
