{
 "cells": [
  {
   "cell_type": "markdown",
   "metadata": {},
   "source": [
    "## Next steps:\n",
    "\n",
    "- Investigate data\n",
    "- Investigate Null values\n",
    "- First analysis (GROUP BY, standard metrics)\n",
    "\n",
    "\n",
    "## Ideas\n",
    "\n",
    "- Interesting could be a cart rate. How much and what from the cart got purchased at the end. And how long did it stay in the  cart.\n",
    "\n",
    "- Same from view to cart or purchase.\n",
    "\n",
    "- These could be analysied by user, category or brand"
   ]
  },
  {
   "cell_type": "code",
   "execution_count": 1,
   "metadata": {},
   "outputs": [],
   "source": [
    "# Import libraries\n",
    "import pandas as pd\n",
    "import matplotlib as plt\n",
    "import seaborn as sns\n",
    "import numpy as np\n",
    "import impala as ip\n",
    "from impala.dbapi import connect\n",
    "from impala.util import as_pandas"
   ]
  },
  {
   "cell_type": "code",
   "execution_count": 2,
   "metadata": {},
   "outputs": [],
   "source": [
    "#Showing graphs inline\n",
    "%matplotlib inline"
   ]
  },
  {
   "cell_type": "code",
   "execution_count": 3,
   "metadata": {},
   "outputs": [],
   "source": [
    "conn = connect('localhost', port=21050)\n",
    "cursor = conn.cursor()\n",
    "#cursor.execute('SHOW DATABASE')\n",
    "#cursor.fetchall()"
   ]
  },
  {
   "cell_type": "code",
   "execution_count": 9,
   "metadata": {},
   "outputs": [
    {
     "data": {
      "text/plain": [
       "[('event_time', 'timestamp', ''),\n",
       " ('event_type', 'string', ''),\n",
       " ('product_id', 'bigint', ''),\n",
       " ('category_id', 'bigint', ''),\n",
       " ('category_code', 'string', ''),\n",
       " ('brand', 'string', ''),\n",
       " ('price', 'double', ''),\n",
       " ('user_id', 'bigint', ''),\n",
       " ('user_session', 'string', '')]"
      ]
     },
     "execution_count": 9,
     "metadata": {},
     "output_type": "execute_result"
    }
   ],
   "source": [
    "cursor.execute('DESCRIBE sales.sales')\n",
    "cursor.fetchall()"
   ]
  },
  {
   "cell_type": "code",
   "execution_count": 10,
   "metadata": {},
   "outputs": [],
   "source": [
    "QUERY = 'SELECT * FROM sales.sales LIMIT 5'"
   ]
  },
  {
   "cell_type": "code",
   "execution_count": 11,
   "metadata": {},
   "outputs": [],
   "source": [
    "cursor.execute(QUERY)\n",
    "results = pd.DataFrame(cursor.fetchall())"
   ]
  },
  {
   "cell_type": "code",
   "execution_count": 12,
   "metadata": {},
   "outputs": [
    {
     "name": "stdout",
     "output_type": "stream",
     "text": [
      "<class 'pandas.core.frame.DataFrame'>\n",
      "RangeIndex: 5 entries, 0 to 4\n",
      "Data columns (total 9 columns):\n",
      " #   Column  Non-Null Count  Dtype         \n",
      "---  ------  --------------  -----         \n",
      " 0   0       5 non-null      datetime64[ns]\n",
      " 1   1       5 non-null      object        \n",
      " 2   2       5 non-null      int64         \n",
      " 3   3       5 non-null      int64         \n",
      " 4   4       3 non-null      object        \n",
      " 5   5       4 non-null      object        \n",
      " 6   6       5 non-null      float64       \n",
      " 7   7       5 non-null      int64         \n",
      " 8   8       5 non-null      object        \n",
      "dtypes: datetime64[ns](1), float64(1), int64(3), object(4)\n",
      "memory usage: 488.0+ bytes\n"
     ]
    }
   ],
   "source": [
    "results.info()"
   ]
  },
  {
   "cell_type": "code",
   "execution_count": 13,
   "metadata": {},
   "outputs": [
    {
     "data": {
      "text/html": [
       "<div>\n",
       "<style scoped>\n",
       "    .dataframe tbody tr th:only-of-type {\n",
       "        vertical-align: middle;\n",
       "    }\n",
       "\n",
       "    .dataframe tbody tr th {\n",
       "        vertical-align: top;\n",
       "    }\n",
       "\n",
       "    .dataframe thead th {\n",
       "        text-align: right;\n",
       "    }\n",
       "</style>\n",
       "<table border=\"1\" class=\"dataframe\">\n",
       "  <thead>\n",
       "    <tr style=\"text-align: right;\">\n",
       "      <th></th>\n",
       "      <th>0</th>\n",
       "      <th>1</th>\n",
       "      <th>2</th>\n",
       "      <th>3</th>\n",
       "      <th>4</th>\n",
       "      <th>5</th>\n",
       "      <th>6</th>\n",
       "      <th>7</th>\n",
       "      <th>8</th>\n",
       "    </tr>\n",
       "  </thead>\n",
       "  <tbody>\n",
       "    <tr>\n",
       "      <th>0</th>\n",
       "      <td>2019-11-28 17:27:50</td>\n",
       "      <td>view</td>\n",
       "      <td>54100012</td>\n",
       "      <td>2145153815500816706</td>\n",
       "      <td>None</td>\n",
       "      <td>matrix</td>\n",
       "      <td>36.13</td>\n",
       "      <td>515522739</td>\n",
       "      <td>1862607d-488b-49d6-8742-ebc6079b53cc</td>\n",
       "    </tr>\n",
       "    <tr>\n",
       "      <th>1</th>\n",
       "      <td>2019-11-28 17:27:50</td>\n",
       "      <td>view</td>\n",
       "      <td>5701166</td>\n",
       "      <td>2053013553970938175</td>\n",
       "      <td>auto.accessories.player</td>\n",
       "      <td>None</td>\n",
       "      <td>143.89</td>\n",
       "      <td>550006854</td>\n",
       "      <td>76ca3f45-1834-45b6-884c-1df9a0f0ba43</td>\n",
       "    </tr>\n",
       "    <tr>\n",
       "      <th>2</th>\n",
       "      <td>2019-11-28 17:27:50</td>\n",
       "      <td>view</td>\n",
       "      <td>100023426</td>\n",
       "      <td>2053013558920217191</td>\n",
       "      <td>computers.notebook</td>\n",
       "      <td>hp</td>\n",
       "      <td>771.96</td>\n",
       "      <td>512543257</td>\n",
       "      <td>a7888cc5-8eb3-4364-8007-4f3b154c9729</td>\n",
       "    </tr>\n",
       "    <tr>\n",
       "      <th>3</th>\n",
       "      <td>2019-11-28 17:27:50</td>\n",
       "      <td>view</td>\n",
       "      <td>1004833</td>\n",
       "      <td>2053013555631882655</td>\n",
       "      <td>electronics.smartphone</td>\n",
       "      <td>samsung</td>\n",
       "      <td>168.65</td>\n",
       "      <td>515053770</td>\n",
       "      <td>be2c2a66-de21-4cb8-9add-048e734522dd</td>\n",
       "    </tr>\n",
       "    <tr>\n",
       "      <th>4</th>\n",
       "      <td>2019-11-28 17:27:50</td>\n",
       "      <td>view</td>\n",
       "      <td>26200979</td>\n",
       "      <td>2053013563693335403</td>\n",
       "      <td>None</td>\n",
       "      <td>lucente</td>\n",
       "      <td>204.64</td>\n",
       "      <td>554063553</td>\n",
       "      <td>24ee2c73-a3dc-4adc-8293-0b24dd46fac6</td>\n",
       "    </tr>\n",
       "  </tbody>\n",
       "</table>\n",
       "</div>"
      ],
      "text/plain": [
       "                    0     1          2                    3  \\\n",
       "0 2019-11-28 17:27:50  view   54100012  2145153815500816706   \n",
       "1 2019-11-28 17:27:50  view    5701166  2053013553970938175   \n",
       "2 2019-11-28 17:27:50  view  100023426  2053013558920217191   \n",
       "3 2019-11-28 17:27:50  view    1004833  2053013555631882655   \n",
       "4 2019-11-28 17:27:50  view   26200979  2053013563693335403   \n",
       "\n",
       "                         4        5       6          7  \\\n",
       "0                     None   matrix   36.13  515522739   \n",
       "1  auto.accessories.player     None  143.89  550006854   \n",
       "2       computers.notebook       hp  771.96  512543257   \n",
       "3   electronics.smartphone  samsung  168.65  515053770   \n",
       "4                     None  lucente  204.64  554063553   \n",
       "\n",
       "                                      8  \n",
       "0  1862607d-488b-49d6-8742-ebc6079b53cc  \n",
       "1  76ca3f45-1834-45b6-884c-1df9a0f0ba43  \n",
       "2  a7888cc5-8eb3-4364-8007-4f3b154c9729  \n",
       "3  be2c2a66-de21-4cb8-9add-048e734522dd  \n",
       "4  24ee2c73-a3dc-4adc-8293-0b24dd46fac6  "
      ]
     },
     "execution_count": 13,
     "metadata": {},
     "output_type": "execute_result"
    }
   ],
   "source": [
    "results"
   ]
  }
 ],
 "metadata": {
  "kernelspec": {
   "display_name": "Python 3",
   "language": "python",
   "name": "python3"
  },
  "language_info": {
   "codemirror_mode": {
    "name": "ipython",
    "version": 3
   },
   "file_extension": ".py",
   "mimetype": "text/x-python",
   "name": "python",
   "nbconvert_exporter": "python",
   "pygments_lexer": "ipython3",
   "version": "3.7.3"
  }
 },
 "nbformat": 4,
 "nbformat_minor": 2
}
